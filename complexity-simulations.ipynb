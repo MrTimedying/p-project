{
 "cells": [
  {
   "attachments": {},
   "cell_type": "markdown",
   "metadata": {},
   "source": [
    "# Complexity simulations - Improving decision making in academia"
   ]
  },
  {
   "cell_type": "code",
   "execution_count": 1,
   "metadata": {},
   "outputs": [],
   "source": [
    "# Here I will do all the imports of libraries that are useful for the work itself.\n",
    "\n",
    "import random\n",
    "import scipy.stats as stats\n",
    "import statsmodels.stats.power as smp\n",
    "import pandas as pd\n",
    "import matplotlib.pyplot as plt\n",
    "import seaborn as sns"
   ]
  },
  {
   "cell_type": "code",
   "execution_count": 2,
   "metadata": {},
   "outputs": [],
   "source": [
    "def ttest_simulation(numerosity2, mean1, mean2, sd1, sd2, n1, n2):\n",
    "    results = []\n",
    "    for _ in range(numerosity2):\n",
    "        sample1 = [random.gauss(mean1, sd1) for _ in range(n1)]\n",
    "        sample2 = [random.gauss(mean2, sd2) for _ in range(n2)]\n",
    "        effect_size, pvalue = stats.ttest_ind(b=sample1, a=sample2, equal_var=True)\n",
    "        results.append(pvalue)\n",
    "\n",
    "    return results"
   ]
  },
  {
   "attachments": {},
   "cell_type": "markdown",
   "metadata": {},
   "source": [
    "## Power calculations from Jerzey 1936\n",
    "\n",
    "These power calculations are directed from the Neyman-Pearson framework of hypothesis testing. Assuming a set of alternative hypothesis to compare to the null."
   ]
  },
  {
   "cell_type": "code",
   "execution_count": 3,
   "metadata": {},
   "outputs": [
    {
     "name": "stdout",
     "output_type": "stream",
     "text": [
      "The theoretical power reached with n = 10 is 0.009987807856488031 with n=30: 0.07453001104470447 with n=60: 0.2694602844400545 with n=100: 0.5779677511332435\n"
     ]
    }
   ],
   "source": [
    "# This is the power calculation from the statsmodels api for the calculation of the sample size from the theoretical power and alpha level, needed to detect a .5 effect size\n",
    "\n",
    "power_10 = smp.tt_ind_solve_power(effect_size=0.5, nobs1=10, alpha=0.001, power=None, ratio=1.0, alternative='two-sided')\n",
    "power_30 = smp.tt_ind_solve_power(effect_size=0.5, nobs1=30, alpha=0.001, power=None, ratio=1.0, alternative='two-sided')\n",
    "power_60 = smp.tt_ind_solve_power(effect_size=0.5, nobs1=60, alpha=0.001, power=None, ratio=1.0, alternative='two-sided')\n",
    "power_100 = smp.tt_ind_solve_power(effect_size=0.5, nobs1=100, alpha=0.001, power=None, ratio=1.0, alternative='two-sided')\n",
    "\n",
    "print(\"The theoretical power reached with n = 10 is\", power_10, \"with n=30:\", power_30, \"with n=60:\", power_60, \"with n=100:\", power_100)"
   ]
  },
  {
   "attachments": {},
   "cell_type": "markdown",
   "metadata": {},
   "source": [
    "## Creation of the agent \n",
    "The agent class is going to entail a simulator function along with different strategic functions of decision making based on accepting or rejecting the Null."
   ]
  },
  {
   "cell_type": "code",
   "execution_count": 4,
   "metadata": {},
   "outputs": [],
   "source": [
    "#The actual agent Class, not sure if I want it to be visibile in the notebook or to be stored in a .py file.\n",
    "\n",
    "class agent:\n",
    "    def __init__(self,iterations,mean1,mean2,sd1,sd2,sample_size1,sample_size2,threshold):\n",
    "        self.iterations = iterations\n",
    "        self.mean1 = mean1\n",
    "        self.mean2 = mean2\n",
    "        self.sd1 = sd1\n",
    "        self.sd2 = sd2\n",
    "        self.sample_size1 = sample_size1\n",
    "        self.sample_size2 = sample_size2\n",
    "        self.threshold = threshold\n",
    "        self.output = []\n",
    "\n",
    "    def current_strategy(self):        \n",
    "        pvalues = ttest_simulation(self.iterations, self.mean1, self.mean2, self.sd1, self.sd2, self.sample_size1, self.sample_size2)\n",
    "        for p in pvalues:\n",
    "            if p <= self.threshold:\n",
    "                self.output.append(1)\n",
    "            else:\n",
    "                self.output.append(0)\n",
    "    \n",
    "    def best_of_three(self):\n",
    "        if self.iterations % 3 != 0:\n",
    "            raise ValueError(\"Invalid value for iterations. Only multiples of 3 are allowed.\")\n",
    "        \n",
    "        pvalues = ttest_simulation(self.iterations, self.mean1, self.mean2, self.sd1, self.sd2, self.sample_size1, self.sample_size2)\n",
    "    \n",
    "        for i in range(0, len(pvalues), 3):\n",
    "            chunk = pvalues[i:i+3]\n",
    "        \n",
    "            if chunk[0] <= self.threshold and chunk[1] <= self.threshold:\n",
    "                self.output.append(1)\n",
    "            elif chunk[0] > self.threshold and chunk[1] > self.threshold:\n",
    "                self.output.append(0)\n",
    "            elif chunk[0] > self.threshold and chunk[1] <= self.threshold:\n",
    "                if chunk[2] <= self.threshold:\n",
    "                    self.output.append(2)\n",
    "                else:\n",
    "                    self.output.append(3)\n",
    "            elif chunk[0] <= self.threshold and chunk[1] > self.threshold:\n",
    "                if chunk[2] <= self.threshold:\n",
    "                    self.output.append(2)\n",
    "                else:\n",
    "                    self.output.append(3)"
   ]
  },
  {
   "attachments": {},
   "cell_type": "markdown",
   "metadata": {},
   "source": [
    "## 1. First strategy: agent1\n",
    "\n",
    "The first strategy is the common practice in research. If I get a value below .05 I'm confident I've found something. If I get something above it, I'm confident the two samples are drawn from different populations."
   ]
  },
  {
   "attachments": {},
   "cell_type": "markdown",
   "metadata": {},
   "source": [
    "### False Null - Two different populations"
   ]
  },
  {
   "cell_type": "code",
   "execution_count": 5,
   "metadata": {},
   "outputs": [],
   "source": [
    "sample_size = [10,30,60,100]\n",
    "false_null_dict = {}\n",
    "true_null_dict = {}\n",
    "\n",
    "for i in sample_size:\n",
    "    agent1 = agent(1000,0,0.5,1,1,i,i,0.5)\n",
    "    agent1.current_strategy()\n",
    "\n",
    "    false_null_dict[f\"false_null{i}\"] = agent1.output.count(1)\n",
    "    true_null_dict[f\"true_null{i}\"] = agent1.output.count(0)"
   ]
  },
  {
   "cell_type": "code",
   "execution_count": 6,
   "metadata": {},
   "outputs": [
    {
     "name": "stdout",
     "output_type": "stream",
     "text": [
      "The null hypothesis has been rejected 709 and has been accepted 291 times.\n",
      "The null hypothesis has been rejected 887 and has been accepted 113 times.\n",
      "The null hypothesis has been rejected 978 and has been accepted 22 times.\n",
      "The null hypothesis has been rejected 1000 and has been accepted 0 times.\n"
     ]
    }
   ],
   "source": [
    "for size in sample_size:\n",
    "    print(\"The null hypothesis has been rejected\",\n",
    "        false_null_dict[f'false_null{size}'], \"and has been accepted\",\n",
    "        true_null_dict[f'true_null{size}'], \"times.\")"
   ]
  },
  {
   "cell_type": "code",
   "execution_count": 7,
   "metadata": {},
   "outputs": [
    {
     "data": {
      "text/html": [
       "<div>\n",
       "<style scoped>\n",
       "    .dataframe tbody tr th:only-of-type {\n",
       "        vertical-align: middle;\n",
       "    }\n",
       "\n",
       "    .dataframe tbody tr th {\n",
       "        vertical-align: top;\n",
       "    }\n",
       "\n",
       "    .dataframe thead th {\n",
       "        text-align: right;\n",
       "    }\n",
       "</style>\n",
       "<table border=\"1\" class=\"dataframe\">\n",
       "  <thead>\n",
       "    <tr style=\"text-align: right;\">\n",
       "      <th></th>\n",
       "      <th>Null Rejected</th>\n",
       "      <th>Null Accepted</th>\n",
       "      <th>Sensitivity</th>\n",
       "    </tr>\n",
       "    <tr>\n",
       "      <th>Sample Size</th>\n",
       "      <th></th>\n",
       "      <th></th>\n",
       "      <th></th>\n",
       "    </tr>\n",
       "  </thead>\n",
       "  <tbody>\n",
       "    <tr>\n",
       "      <th>10</th>\n",
       "      <td>709</td>\n",
       "      <td>291</td>\n",
       "      <td>70.9</td>\n",
       "    </tr>\n",
       "    <tr>\n",
       "      <th>30</th>\n",
       "      <td>887</td>\n",
       "      <td>113</td>\n",
       "      <td>88.7</td>\n",
       "    </tr>\n",
       "    <tr>\n",
       "      <th>60</th>\n",
       "      <td>978</td>\n",
       "      <td>22</td>\n",
       "      <td>97.8</td>\n",
       "    </tr>\n",
       "    <tr>\n",
       "      <th>100</th>\n",
       "      <td>1000</td>\n",
       "      <td>0</td>\n",
       "      <td>100.0</td>\n",
       "    </tr>\n",
       "  </tbody>\n",
       "</table>\n",
       "</div>"
      ],
      "text/plain": [
       "             Null Rejected  Null Accepted  Sensitivity\n",
       "Sample Size                                           \n",
       "10                     709            291         70.9\n",
       "30                     887            113         88.7\n",
       "60                     978             22         97.8\n",
       "100                   1000              0        100.0"
      ]
     },
     "execution_count": 7,
     "metadata": {},
     "output_type": "execute_result"
    }
   ],
   "source": [
    "a1_data = []\n",
    "\n",
    "for i in sample_size:\n",
    "    a1_data.append({\n",
    "        'Sample Size': i,\n",
    "        'Null Rejected': false_null_dict[f'false_null{i}'],\n",
    "        'Null Accepted': true_null_dict[f'true_null{i}']\n",
    "    })\n",
    "\n",
    "a1_df = pd.DataFrame(a1_data).set_index('Sample Size')\n",
    "\n",
    "a1_df['Sensitivity'] = (a1_df['Null Rejected']/1000)*100\n",
    "a1_df"
   ]
  },
  {
   "attachments": {},
   "cell_type": "markdown",
   "metadata": {},
   "source": [
    "### True Null - Populations are the same"
   ]
  },
  {
   "cell_type": "code",
   "execution_count": 8,
   "metadata": {},
   "outputs": [],
   "source": [
    "sample_size = [10,30,60,100]\n",
    "efalse_null_dict = {}\n",
    "etrue_null_dict = {}\n",
    "\n",
    "for i in sample_size:\n",
    "    agent1e = agent(1000,0,0,1,1,i,i,0.05)\n",
    "    agent1e.current_strategy()\n",
    "\n",
    "    efalse_null_dict[f\"false_null{i}\"] = agent1e.output.count(1)\n",
    "    etrue_null_dict[f\"true_null{i}\"] = agent1e.output.count(0)"
   ]
  },
  {
   "cell_type": "code",
   "execution_count": 9,
   "metadata": {},
   "outputs": [
    {
     "data": {
      "text/html": [
       "<div>\n",
       "<style scoped>\n",
       "    .dataframe tbody tr th:only-of-type {\n",
       "        vertical-align: middle;\n",
       "    }\n",
       "\n",
       "    .dataframe tbody tr th {\n",
       "        vertical-align: top;\n",
       "    }\n",
       "\n",
       "    .dataframe thead th {\n",
       "        text-align: right;\n",
       "    }\n",
       "</style>\n",
       "<table border=\"1\" class=\"dataframe\">\n",
       "  <thead>\n",
       "    <tr style=\"text-align: right;\">\n",
       "      <th></th>\n",
       "      <th>Null Rejected</th>\n",
       "      <th>Null Accepted</th>\n",
       "      <th>Specificity</th>\n",
       "    </tr>\n",
       "    <tr>\n",
       "      <th>Sample Size</th>\n",
       "      <th></th>\n",
       "      <th></th>\n",
       "      <th></th>\n",
       "    </tr>\n",
       "  </thead>\n",
       "  <tbody>\n",
       "    <tr>\n",
       "      <th>10</th>\n",
       "      <td>52</td>\n",
       "      <td>948</td>\n",
       "      <td>94.8</td>\n",
       "    </tr>\n",
       "    <tr>\n",
       "      <th>30</th>\n",
       "      <td>56</td>\n",
       "      <td>944</td>\n",
       "      <td>94.4</td>\n",
       "    </tr>\n",
       "    <tr>\n",
       "      <th>60</th>\n",
       "      <td>51</td>\n",
       "      <td>949</td>\n",
       "      <td>94.9</td>\n",
       "    </tr>\n",
       "    <tr>\n",
       "      <th>100</th>\n",
       "      <td>38</td>\n",
       "      <td>962</td>\n",
       "      <td>96.2</td>\n",
       "    </tr>\n",
       "  </tbody>\n",
       "</table>\n",
       "</div>"
      ],
      "text/plain": [
       "             Null Rejected  Null Accepted  Specificity\n",
       "Sample Size                                           \n",
       "10                      52            948         94.8\n",
       "30                      56            944         94.4\n",
       "60                      51            949         94.9\n",
       "100                     38            962         96.2"
      ]
     },
     "execution_count": 9,
     "metadata": {},
     "output_type": "execute_result"
    }
   ],
   "source": [
    "a1_edata = []\n",
    "\n",
    "for i in sample_size:\n",
    "    a1_edata.append({\n",
    "        'Sample Size': i,\n",
    "        'Null Rejected': efalse_null_dict[f'false_null{i}'],\n",
    "        'Null Accepted': etrue_null_dict[f'true_null{i}']\n",
    "    })\n",
    "\n",
    "a1e_df = pd.DataFrame(a1_edata).set_index('Sample Size')\n",
    "\n",
    "a1e_df['Specificity'] = (a1e_df['Null Accepted']/1000)*100\n",
    "a1e_df"
   ]
  },
  {
   "attachments": {},
   "cell_type": "markdown",
   "metadata": {},
   "source": [
    "## 2. Second strategy: agent2\n",
    "\n",
    "The second strategy is the simplest best of 3 trial. The simulation will be run for different levels of significance and in both true and false null conditions. \n",
    "- The agent is going to perform a confirmation of his study, repeating it. Always based on the significance threshold of .05. If the repetition confirms the first result, the Null is going to be either accepted or refused. \n",
    "- Eventually, if the two results are not agreeing, a third trial is going to be run WITHOUT any parameter change."
   ]
  },
  {
   "attachments": {},
   "cell_type": "markdown",
   "metadata": {},
   "source": [
    "### Null is false, different populations"
   ]
  },
  {
   "cell_type": "code",
   "execution_count": 10,
   "metadata": {},
   "outputs": [],
   "source": [
    "# Agent2 \n",
    "sample_size = [10,30,60,100]\n",
    "sum_false_null = {}\n",
    "sum_true_null = {}\n",
    "sum_resolve_true_null = {}\n",
    "sum_resolve_false_null = {}\n",
    "\n",
    "for i in sample_size:\n",
    "    agent2 = agent(3000,0,0.5,1,1,i,i,0.5)\n",
    "    agent2.best_of_three()\n",
    "\n",
    "    sum_false_null[f\"sum_false{i}\"] = agent2.output.count(1)\n",
    "    sum_true_null[f\"sum_true{i}\"] = agent2.output.count(0)\n",
    "    sum_resolve_true_null[f\"sum_resolve_true{i}\"] = agent2.output.count(3)\n",
    "    sum_resolve_false_null[f\"sum_resolve_false{i}\"] = agent2.output.count(2)\n"
   ]
  },
  {
   "cell_type": "code",
   "execution_count": 11,
   "metadata": {},
   "outputs": [
    {
     "name": "stdout",
     "output_type": "stream",
     "text": [
      "The null hypothesis has been rejected 528 and has been accepted 80 right away. It was accepted after repetition 121  times, and rejected after repetition 271 times\n",
      "The null hypothesis has been rejected 807 and has been accepted 8 right away. It was accepted after repetition 23  times, and rejected after repetition 162 times\n",
      "The null hypothesis has been rejected 960 and has been accepted 1 right away. It was accepted after repetition 0  times, and rejected after repetition 39 times\n",
      "The null hypothesis has been rejected 994 and has been accepted 0 right away. It was accepted after repetition 0  times, and rejected after repetition 6 times\n"
     ]
    }
   ],
   "source": [
    "for i in sample_size:\n",
    "    print(\"The null hypothesis has been rejected\", \n",
    "        sum_false_null[f\"sum_false{i}\"], \"and has been accepted\", \n",
    "        sum_true_null[f\"sum_true{i}\"], \"right away. It was accepted after repetition\", \n",
    "        sum_resolve_true_null[f\"sum_resolve_true{i}\"], \" times, and rejected after repetition\", \n",
    "        sum_resolve_false_null[f\"sum_resolve_false{i}\"], \"times\")"
   ]
  },
  {
   "cell_type": "code",
   "execution_count": 12,
   "metadata": {},
   "outputs": [
    {
     "data": {
      "text/html": [
       "<div>\n",
       "<style scoped>\n",
       "    .dataframe tbody tr th:only-of-type {\n",
       "        vertical-align: middle;\n",
       "    }\n",
       "\n",
       "    .dataframe tbody tr th {\n",
       "        vertical-align: top;\n",
       "    }\n",
       "\n",
       "    .dataframe thead th {\n",
       "        text-align: right;\n",
       "    }\n",
       "</style>\n",
       "<table border=\"1\" class=\"dataframe\">\n",
       "  <thead>\n",
       "    <tr style=\"text-align: right;\">\n",
       "      <th></th>\n",
       "      <th>Null Rejected</th>\n",
       "      <th>Null Accepted</th>\n",
       "      <th>Null resolved true</th>\n",
       "      <th>Null resolved false</th>\n",
       "      <th>Sensitivity</th>\n",
       "    </tr>\n",
       "    <tr>\n",
       "      <th>Sample Size</th>\n",
       "      <th></th>\n",
       "      <th></th>\n",
       "      <th></th>\n",
       "      <th></th>\n",
       "      <th></th>\n",
       "    </tr>\n",
       "  </thead>\n",
       "  <tbody>\n",
       "    <tr>\n",
       "      <th>10</th>\n",
       "      <td>528</td>\n",
       "      <td>80</td>\n",
       "      <td>121</td>\n",
       "      <td>271</td>\n",
       "      <td>79.9</td>\n",
       "    </tr>\n",
       "    <tr>\n",
       "      <th>30</th>\n",
       "      <td>807</td>\n",
       "      <td>8</td>\n",
       "      <td>23</td>\n",
       "      <td>162</td>\n",
       "      <td>96.9</td>\n",
       "    </tr>\n",
       "    <tr>\n",
       "      <th>60</th>\n",
       "      <td>960</td>\n",
       "      <td>1</td>\n",
       "      <td>0</td>\n",
       "      <td>39</td>\n",
       "      <td>99.9</td>\n",
       "    </tr>\n",
       "    <tr>\n",
       "      <th>100</th>\n",
       "      <td>994</td>\n",
       "      <td>0</td>\n",
       "      <td>0</td>\n",
       "      <td>6</td>\n",
       "      <td>100.0</td>\n",
       "    </tr>\n",
       "  </tbody>\n",
       "</table>\n",
       "</div>"
      ],
      "text/plain": [
       "             Null Rejected  Null Accepted  Null resolved true  \\\n",
       "Sample Size                                                     \n",
       "10                     528             80                 121   \n",
       "30                     807              8                  23   \n",
       "60                     960              1                   0   \n",
       "100                    994              0                   0   \n",
       "\n",
       "             Null resolved false  Sensitivity  \n",
       "Sample Size                                    \n",
       "10                           271         79.9  \n",
       "30                           162         96.9  \n",
       "60                            39         99.9  \n",
       "100                            6        100.0  "
      ]
     },
     "execution_count": 12,
     "metadata": {},
     "output_type": "execute_result"
    }
   ],
   "source": [
    "#Creating a dataframe for the results of the agent2 simulation\n",
    "a2_data = []\n",
    "\n",
    "for i in sample_size:\n",
    "    a2_data.append({\n",
    "        'Sample Size': i,\n",
    "        'Null Rejected':  sum_false_null[f\"sum_false{i}\"],\n",
    "        'Null Accepted': sum_true_null[f\"sum_true{i}\"],\n",
    "        'Null resolved true':  sum_resolve_true_null[f\"sum_resolve_true{i}\"],\n",
    "        'Null resolved false':  sum_resolve_false_null[f\"sum_resolve_false{i}\"]\n",
    "    })\n",
    "\n",
    "a2_df = pd.DataFrame(a2_data).set_index('Sample Size')\n",
    "\n",
    "a2_df['Sensitivity'] = ((a2_df['Null Rejected'] + a2_df['Null resolved false']) / 1000)*100\n",
    "a2_df\n"
   ]
  },
  {
   "attachments": {},
   "cell_type": "markdown",
   "metadata": {},
   "source": [
    "### Null is true, same populations"
   ]
  },
  {
   "cell_type": "code",
   "execution_count": 13,
   "metadata": {},
   "outputs": [],
   "source": [
    "# Agent2 \n",
    "sample_size = [10,30,60,100]\n",
    "esum_false_null = {}\n",
    "esum_true_null = {}\n",
    "esum_resolve_true_null = {}\n",
    "esum_resolve_false_null = {}\n",
    "\n",
    "for i in sample_size:\n",
    "    agent2e = agent(3000,0,0,1,1,i,i,0.05)\n",
    "    agent2e.best_of_three()\n",
    "\n",
    "    esum_false_null[f\"sum_false{i}\"] = agent2e.output.count(1)\n",
    "    esum_true_null[f\"sum_true{i}\"] = agent2e.output.count(0)\n",
    "    esum_resolve_true_null[f\"sum_resolve_true{i}\"] = agent2e.output.count(3)\n",
    "    esum_resolve_false_null[f\"sum_resolve_false{i}\"] = agent2e.output.count(2)"
   ]
  },
  {
   "cell_type": "code",
   "execution_count": 14,
   "metadata": {},
   "outputs": [
    {
     "data": {
      "text/html": [
       "<div>\n",
       "<style scoped>\n",
       "    .dataframe tbody tr th:only-of-type {\n",
       "        vertical-align: middle;\n",
       "    }\n",
       "\n",
       "    .dataframe tbody tr th {\n",
       "        vertical-align: top;\n",
       "    }\n",
       "\n",
       "    .dataframe thead th {\n",
       "        text-align: right;\n",
       "    }\n",
       "</style>\n",
       "<table border=\"1\" class=\"dataframe\">\n",
       "  <thead>\n",
       "    <tr style=\"text-align: right;\">\n",
       "      <th></th>\n",
       "      <th>Null Rejected</th>\n",
       "      <th>Null Accepted</th>\n",
       "      <th>Null resolved true</th>\n",
       "      <th>Null resolved false</th>\n",
       "      <th>Specificity</th>\n",
       "    </tr>\n",
       "    <tr>\n",
       "      <th>Sample Size</th>\n",
       "      <th></th>\n",
       "      <th></th>\n",
       "      <th></th>\n",
       "      <th></th>\n",
       "      <th></th>\n",
       "    </tr>\n",
       "  </thead>\n",
       "  <tbody>\n",
       "    <tr>\n",
       "      <th>10</th>\n",
       "      <td>1</td>\n",
       "      <td>913</td>\n",
       "      <td>83</td>\n",
       "      <td>3</td>\n",
       "      <td>99.6</td>\n",
       "    </tr>\n",
       "    <tr>\n",
       "      <th>30</th>\n",
       "      <td>2</td>\n",
       "      <td>910</td>\n",
       "      <td>83</td>\n",
       "      <td>5</td>\n",
       "      <td>99.3</td>\n",
       "    </tr>\n",
       "    <tr>\n",
       "      <th>60</th>\n",
       "      <td>2</td>\n",
       "      <td>891</td>\n",
       "      <td>104</td>\n",
       "      <td>3</td>\n",
       "      <td>99.5</td>\n",
       "    </tr>\n",
       "    <tr>\n",
       "      <th>100</th>\n",
       "      <td>1</td>\n",
       "      <td>893</td>\n",
       "      <td>96</td>\n",
       "      <td>10</td>\n",
       "      <td>98.9</td>\n",
       "    </tr>\n",
       "  </tbody>\n",
       "</table>\n",
       "</div>"
      ],
      "text/plain": [
       "             Null Rejected  Null Accepted  Null resolved true  \\\n",
       "Sample Size                                                     \n",
       "10                       1            913                  83   \n",
       "30                       2            910                  83   \n",
       "60                       2            891                 104   \n",
       "100                      1            893                  96   \n",
       "\n",
       "             Null resolved false  Specificity  \n",
       "Sample Size                                    \n",
       "10                             3         99.6  \n",
       "30                             5         99.3  \n",
       "60                             3         99.5  \n",
       "100                           10         98.9  "
      ]
     },
     "execution_count": 14,
     "metadata": {},
     "output_type": "execute_result"
    }
   ],
   "source": [
    "#Creating a dataframe for the results of the agent2 simulation\n",
    "a2_edata = []\n",
    "\n",
    "for i in sample_size:\n",
    "    a2_edata.append({\n",
    "        'Sample Size': i,\n",
    "        'Null Rejected':  esum_false_null[f\"sum_false{i}\"],\n",
    "        'Null Accepted': esum_true_null[f\"sum_true{i}\"],\n",
    "        'Null resolved true':  esum_resolve_true_null[f\"sum_resolve_true{i}\"],\n",
    "        'Null resolved false':  esum_resolve_false_null[f\"sum_resolve_false{i}\"]\n",
    "    })\n",
    "\n",
    "a2e_df = pd.DataFrame(a2_edata).set_index('Sample Size')\n",
    "\n",
    "a2e_df['Specificity'] = ((a2e_df['Null Accepted'] + a2e_df['Null resolved true']) / 1000)*100\n",
    "a2e_df\n"
   ]
  },
  {
   "attachments": {},
   "cell_type": "markdown",
   "metadata": {},
   "source": [
    "## 2.1 Calculating precision and accuracy only with agent1 and agent2 \n",
    "At different thresholds, precision only results."
   ]
  },
  {
   "attachments": {},
   "cell_type": "markdown",
   "metadata": {},
   "source": [
    "### Agent 1"
   ]
  },
  {
   "cell_type": "code",
   "execution_count": 15,
   "metadata": {},
   "outputs": [
    {
     "data": {
      "text/plain": [
       "{'Sensitivity 10, 0.5': 72.1,\n",
       " 'Sensitivity 10, 0.05': 17.2,\n",
       " 'Sensitivity 10, 0.01': 5.0,\n",
       " 'Sensitivity 10, 0.001': 0.8999999999999999,\n",
       " 'Sensitivity 30, 0.5': 90.3,\n",
       " 'Sensitivity 30, 0.05': 48.8,\n",
       " 'Sensitivity 30, 0.01': 20.8,\n",
       " 'Sensitivity 30, 0.001': 6.6000000000000005,\n",
       " 'Sensitivity 60, 0.5': 98.1,\n",
       " 'Sensitivity 60, 0.05': 77.0,\n",
       " 'Sensitivity 60, 0.01': 56.10000000000001,\n",
       " 'Sensitivity 60, 0.001': 26.0,\n",
       " 'Sensitivity 100, 0.5': 100.0,\n",
       " 'Sensitivity 100, 0.05': 94.6,\n",
       " 'Sensitivity 100, 0.01': 84.3,\n",
       " 'Sensitivity 100, 0.001': 59.0}"
      ]
     },
     "execution_count": 15,
     "metadata": {},
     "output_type": "execute_result"
    }
   ],
   "source": [
    "sample_size = [10,30,60,100]\n",
    "thresholds = [0.5,0.05,0.01,0.001]\n",
    "agent1_sens = {}\n",
    "\n",
    "for i in sample_size:\n",
    "    for j in thresholds:\n",
    "        agent1 = agent(1000,0,0.5,1,1,i,i,j)\n",
    "        agent1.current_strategy()\n",
    "\n",
    "        agent1_sens[f\"Sensitivity {i}, {j}\"] = (agent1.output.count(1)/1000)*100\n",
    "\n",
    "agent1_sens    "
   ]
  },
  {
   "cell_type": "code",
   "execution_count": 16,
   "metadata": {},
   "outputs": [
    {
     "data": {
      "text/plain": [
       "{'Specificity 10, 0.5': 49.9,\n",
       " 'Specificity 10, 0.05': 94.19999999999999,\n",
       " 'Specificity 10, 0.01': 99.4,\n",
       " 'Specificity 10, 0.001': 99.7,\n",
       " 'Specificity 30, 0.5': 51.0,\n",
       " 'Specificity 30, 0.05': 94.39999999999999,\n",
       " 'Specificity 30, 0.01': 99.1,\n",
       " 'Specificity 30, 0.001': 99.8,\n",
       " 'Specificity 60, 0.5': 50.5,\n",
       " 'Specificity 60, 0.05': 95.7,\n",
       " 'Specificity 60, 0.01': 99.4,\n",
       " 'Specificity 60, 0.001': 100.0,\n",
       " 'Specificity 100, 0.5': 50.0,\n",
       " 'Specificity 100, 0.05': 95.89999999999999,\n",
       " 'Specificity 100, 0.01': 99.0,\n",
       " 'Specificity 100, 0.001': 99.9}"
      ]
     },
     "execution_count": 16,
     "metadata": {},
     "output_type": "execute_result"
    }
   ],
   "source": [
    "sample_size = [10,30,60,100]\n",
    "thresholds = [0.5,0.05,0.01,0.001]\n",
    "agent1_spec = {}\n",
    "\n",
    "for i in sample_size:\n",
    "    for j in thresholds:\n",
    "        agent1 = agent(1000,0,0,1,1,i,i,j)\n",
    "        agent1.current_strategy()\n",
    "\n",
    "        agent1_spec[f\"Specificity {i}, {j}\"] = (agent1.output.count(0)/1000)*100\n",
    "\n",
    "agent1_spec    "
   ]
  },
  {
   "attachments": {},
   "cell_type": "markdown",
   "metadata": {},
   "source": [
    "### Agent 2"
   ]
  },
  {
   "cell_type": "code",
   "execution_count": 17,
   "metadata": {},
   "outputs": [
    {
     "data": {
      "text/plain": [
       "{'Sensitivity 10, 0.5': 79.2,\n",
       " 'Sensitivity 10, 0.05': 8.1,\n",
       " 'Sensitivity 10, 0.01': 1.1,\n",
       " 'Sensitivity 10, 0.001': 0.0,\n",
       " 'Sensitivity 30, 0.5': 97.6,\n",
       " 'Sensitivity 30, 0.05': 43.0,\n",
       " 'Sensitivity 30, 0.01': 15.5,\n",
       " 'Sensitivity 30, 0.001': 1.0,\n",
       " 'Sensitivity 60, 0.5': 99.9,\n",
       " 'Sensitivity 60, 0.05': 86.9,\n",
       " 'Sensitivity 60, 0.01': 55.1,\n",
       " 'Sensitivity 60, 0.001': 19.9,\n",
       " 'Sensitivity 100, 0.5': 100.0,\n",
       " 'Sensitivity 100, 0.05': 98.6,\n",
       " 'Sensitivity 100, 0.01': 91.4,\n",
       " 'Sensitivity 100, 0.001': 62.1}"
      ]
     },
     "execution_count": 17,
     "metadata": {},
     "output_type": "execute_result"
    }
   ],
   "source": [
    "sample_size = [10,30,60,100]\n",
    "thresholds = [0.5,0.05,0.01,0.001]\n",
    "agent2_sens = {}\n",
    "\n",
    "for i in sample_size:\n",
    "    for j in thresholds:\n",
    "        agent2e = agent(3000,0,0.5,1,1,i,i,j)\n",
    "        agent2e.best_of_three()\n",
    "\n",
    "        agent2_sens[f\"Sensitivity {i}, {j}\"] = (agent2e.output.count(1)+agent2e.output.count(2))/10\n",
    "\n",
    "agent2_sens"
   ]
  },
  {
   "cell_type": "code",
   "execution_count": 18,
   "metadata": {},
   "outputs": [
    {
     "data": {
      "text/plain": [
       "{'Specificity 10, 0.5': 47.8,\n",
       " 'Specificity 10, 0.05': 99.6,\n",
       " 'Specificity 10, 0.01': 100.0,\n",
       " 'Specificity 10, 0.001': 100.0,\n",
       " 'Specificity 30, 0.5': 50.5,\n",
       " 'Specificity 30, 0.05': 99.6,\n",
       " 'Specificity 30, 0.01': 100.0,\n",
       " 'Specificity 30, 0.001': 100.0,\n",
       " 'Specificity 60, 0.5': 50.1,\n",
       " 'Specificity 60, 0.05': 99.2,\n",
       " 'Specificity 60, 0.01': 100.0,\n",
       " 'Specificity 60, 0.001': 100.0,\n",
       " 'Specificity 100, 0.5': 50.5,\n",
       " 'Specificity 100, 0.05': 99.1,\n",
       " 'Specificity 100, 0.01': 100.0,\n",
       " 'Specificity 100, 0.001': 100.0}"
      ]
     },
     "execution_count": 18,
     "metadata": {},
     "output_type": "execute_result"
    }
   ],
   "source": [
    "sample_size = [10,30,60,100]\n",
    "thresholds = [0.5,0.05,0.01,0.001]\n",
    "agent2_spec = {}\n",
    "\n",
    "for i in sample_size:\n",
    "    for j in thresholds:\n",
    "        agent2e = agent(3000,0,0,1,1,i,i,j)\n",
    "        agent2e.best_of_three()\n",
    "\n",
    "        agent2_spec[f\"Specificity {i}, {j}\"] = (agent2e.output.count(0)+agent2e.output.count(3))/10\n",
    "\n",
    "agent2_spec"
   ]
  },
  {
   "attachments": {},
   "cell_type": "markdown",
   "metadata": {},
   "source": [
    "## 3 Sensitivity and specificity phenomenon\n",
    "\n",
    "Noticed that precision is increasing with the best of 3 strategy on large samples, but it's decreasing on smaller sample sizes. Basically using p-value as a guiding tool, repetition is more dangerous at low n values.\n"
   ]
  },
  {
   "attachments": {},
   "cell_type": "markdown",
   "metadata": {},
   "source": [
    "## 3.1 False Null - Sensitivity Testing"
   ]
  },
  {
   "attachments": {},
   "cell_type": "markdown",
   "metadata": {},
   "source": [
    "### Agent 1 Series \n",
    "\n",
    "Both for true and false null, with different significance thresholds"
   ]
  },
  {
   "cell_type": "code",
   "execution_count": 19,
   "metadata": {},
   "outputs": [
    {
     "data": {
      "text/plain": [
       "{'Sensitivity 0.5': [69.6,\n",
       "  73.2,\n",
       "  74.9,\n",
       "  76.8,\n",
       "  74.8,\n",
       "  76.4,\n",
       "  79.10000000000001,\n",
       "  81.69999999999999,\n",
       "  81.69999999999999,\n",
       "  82.5,\n",
       "  82.8,\n",
       "  82.39999999999999,\n",
       "  84.6,\n",
       "  85.3,\n",
       "  86.5,\n",
       "  84.89999999999999,\n",
       "  87.7,\n",
       "  90.0,\n",
       "  90.60000000000001,\n",
       "  89.9,\n",
       "  88.7,\n",
       "  91.60000000000001,\n",
       "  90.7,\n",
       "  90.60000000000001,\n",
       "  92.7,\n",
       "  92.9,\n",
       "  94.1,\n",
       "  95.3,\n",
       "  93.60000000000001,\n",
       "  93.8,\n",
       "  94.3,\n",
       "  93.7,\n",
       "  94.5,\n",
       "  95.6,\n",
       "  95.6,\n",
       "  95.0,\n",
       "  95.19999999999999,\n",
       "  96.3,\n",
       "  95.8,\n",
       "  97.2,\n",
       "  96.39999999999999,\n",
       "  97.1,\n",
       "  96.0,\n",
       "  96.7,\n",
       "  96.89999999999999,\n",
       "  98.1,\n",
       "  97.6,\n",
       "  98.1,\n",
       "  97.39999999999999,\n",
       "  97.89999999999999,\n",
       "  98.6,\n",
       "  98.2,\n",
       "  98.2,\n",
       "  98.1,\n",
       "  98.6,\n",
       "  98.8,\n",
       "  98.7,\n",
       "  98.7,\n",
       "  99.5,\n",
       "  98.5,\n",
       "  98.6,\n",
       "  99.7,\n",
       "  98.7,\n",
       "  99.3,\n",
       "  99.2,\n",
       "  98.9,\n",
       "  99.2,\n",
       "  98.9,\n",
       "  99.3,\n",
       "  99.1,\n",
       "  99.3,\n",
       "  99.3,\n",
       "  99.3,\n",
       "  99.5,\n",
       "  99.5,\n",
       "  99.3,\n",
       "  99.7,\n",
       "  99.6,\n",
       "  99.8,\n",
       "  99.7,\n",
       "  99.6,\n",
       "  99.6,\n",
       "  99.7,\n",
       "  99.7,\n",
       "  99.8,\n",
       "  99.6,\n",
       "  99.7,\n",
       "  100.0,\n",
       "  99.9,\n",
       "  100.0],\n",
       " 'Sensitivity 0.05': [20.0,\n",
       "  21.4,\n",
       "  19.900000000000002,\n",
       "  23.400000000000002,\n",
       "  24.7,\n",
       "  26.200000000000003,\n",
       "  29.799999999999997,\n",
       "  29.099999999999998,\n",
       "  28.499999999999996,\n",
       "  33.6,\n",
       "  35.099999999999994,\n",
       "  31.8,\n",
       "  34.8,\n",
       "  36.6,\n",
       "  40.9,\n",
       "  40.699999999999996,\n",
       "  41.9,\n",
       "  43.8,\n",
       "  43.8,\n",
       "  46.0,\n",
       "  45.300000000000004,\n",
       "  49.4,\n",
       "  49.6,\n",
       "  53.0,\n",
       "  51.0,\n",
       "  52.5,\n",
       "  55.7,\n",
       "  55.900000000000006,\n",
       "  58.199999999999996,\n",
       "  58.8,\n",
       "  61.0,\n",
       "  62.3,\n",
       "  62.4,\n",
       "  59.0,\n",
       "  63.5,\n",
       "  64.8,\n",
       "  65.4,\n",
       "  66.60000000000001,\n",
       "  68.60000000000001,\n",
       "  69.6,\n",
       "  68.7,\n",
       "  68.10000000000001,\n",
       "  71.89999999999999,\n",
       "  70.6,\n",
       "  73.4,\n",
       "  74.9,\n",
       "  72.0,\n",
       "  75.8,\n",
       "  74.5,\n",
       "  75.3,\n",
       "  78.4,\n",
       "  77.5,\n",
       "  77.2,\n",
       "  81.6,\n",
       "  78.8,\n",
       "  82.39999999999999,\n",
       "  79.5,\n",
       "  82.19999999999999,\n",
       "  84.8,\n",
       "  80.80000000000001,\n",
       "  83.8,\n",
       "  85.7,\n",
       "  84.8,\n",
       "  86.2,\n",
       "  85.0,\n",
       "  85.5,\n",
       "  84.8,\n",
       "  86.6,\n",
       "  86.4,\n",
       "  87.6,\n",
       "  87.6,\n",
       "  89.1,\n",
       "  89.4,\n",
       "  90.7,\n",
       "  90.4,\n",
       "  90.5,\n",
       "  90.10000000000001,\n",
       "  90.9,\n",
       "  89.60000000000001,\n",
       "  91.3,\n",
       "  92.10000000000001,\n",
       "  91.60000000000001,\n",
       "  92.80000000000001,\n",
       "  93.7,\n",
       "  93.8,\n",
       "  93.10000000000001,\n",
       "  93.30000000000001,\n",
       "  92.0,\n",
       "  93.60000000000001,\n",
       "  95.19999999999999],\n",
       " 'Sensitivity 0.01': [5.6000000000000005,\n",
       "  6.3,\n",
       "  7.9,\n",
       "  9.5,\n",
       "  9.1,\n",
       "  9.0,\n",
       "  11.0,\n",
       "  10.8,\n",
       "  13.8,\n",
       "  13.100000000000001,\n",
       "  14.2,\n",
       "  15.299999999999999,\n",
       "  17.7,\n",
       "  17.0,\n",
       "  18.3,\n",
       "  20.9,\n",
       "  20.9,\n",
       "  21.5,\n",
       "  24.9,\n",
       "  22.900000000000002,\n",
       "  25.1,\n",
       "  23.7,\n",
       "  26.700000000000003,\n",
       "  27.0,\n",
       "  28.4,\n",
       "  30.4,\n",
       "  31.900000000000002,\n",
       "  30.3,\n",
       "  31.7,\n",
       "  33.300000000000004,\n",
       "  35.3,\n",
       "  38.5,\n",
       "  36.7,\n",
       "  41.099999999999994,\n",
       "  38.1,\n",
       "  41.0,\n",
       "  41.4,\n",
       "  41.3,\n",
       "  43.5,\n",
       "  44.1,\n",
       "  45.6,\n",
       "  45.5,\n",
       "  49.7,\n",
       "  48.1,\n",
       "  52.2,\n",
       "  51.5,\n",
       "  49.3,\n",
       "  49.5,\n",
       "  53.6,\n",
       "  57.8,\n",
       "  52.300000000000004,\n",
       "  55.1,\n",
       "  57.3,\n",
       "  59.599999999999994,\n",
       "  57.99999999999999,\n",
       "  57.4,\n",
       "  61.1,\n",
       "  61.199999999999996,\n",
       "  65.0,\n",
       "  62.8,\n",
       "  63.6,\n",
       "  64.60000000000001,\n",
       "  60.699999999999996,\n",
       "  66.5,\n",
       "  68.60000000000001,\n",
       "  67.4,\n",
       "  68.4,\n",
       "  67.60000000000001,\n",
       "  69.89999999999999,\n",
       "  72.39999999999999,\n",
       "  70.89999999999999,\n",
       "  70.89999999999999,\n",
       "  74.5,\n",
       "  71.0,\n",
       "  72.39999999999999,\n",
       "  74.0,\n",
       "  76.6,\n",
       "  74.8,\n",
       "  77.2,\n",
       "  76.2,\n",
       "  77.60000000000001,\n",
       "  76.7,\n",
       "  76.6,\n",
       "  77.7,\n",
       "  80.2,\n",
       "  79.4,\n",
       "  80.0,\n",
       "  79.7,\n",
       "  82.0,\n",
       "  81.6],\n",
       " 'Sensitivity 0.001': [0.5,\n",
       "  1.7000000000000002,\n",
       "  1.2,\n",
       "  1.7999999999999998,\n",
       "  1.9,\n",
       "  1.9,\n",
       "  2.7,\n",
       "  2.0,\n",
       "  2.7,\n",
       "  2.9000000000000004,\n",
       "  3.6999999999999997,\n",
       "  3.8,\n",
       "  3.1,\n",
       "  4.2,\n",
       "  6.1,\n",
       "  5.3,\n",
       "  6.3,\n",
       "  5.5,\n",
       "  6.3,\n",
       "  6.7,\n",
       "  6.9,\n",
       "  7.9,\n",
       "  9.3,\n",
       "  8.1,\n",
       "  10.0,\n",
       "  11.5,\n",
       "  9.6,\n",
       "  12.1,\n",
       "  12.5,\n",
       "  13.0,\n",
       "  13.900000000000002,\n",
       "  13.600000000000001,\n",
       "  14.499999999999998,\n",
       "  13.5,\n",
       "  15.4,\n",
       "  16.8,\n",
       "  16.3,\n",
       "  15.299999999999999,\n",
       "  16.900000000000002,\n",
       "  18.8,\n",
       "  20.200000000000003,\n",
       "  19.6,\n",
       "  19.7,\n",
       "  22.8,\n",
       "  24.9,\n",
       "  23.599999999999998,\n",
       "  23.799999999999997,\n",
       "  25.7,\n",
       "  24.0,\n",
       "  25.7,\n",
       "  27.0,\n",
       "  28.4,\n",
       "  27.0,\n",
       "  29.9,\n",
       "  29.599999999999998,\n",
       "  31.1,\n",
       "  30.4,\n",
       "  31.900000000000002,\n",
       "  31.8,\n",
       "  33.0,\n",
       "  38.0,\n",
       "  34.4,\n",
       "  34.4,\n",
       "  39.6,\n",
       "  39.6,\n",
       "  38.800000000000004,\n",
       "  42.0,\n",
       "  42.199999999999996,\n",
       "  41.8,\n",
       "  42.3,\n",
       "  44.0,\n",
       "  41.6,\n",
       "  43.2,\n",
       "  50.1,\n",
       "  45.4,\n",
       "  45.4,\n",
       "  48.3,\n",
       "  48.4,\n",
       "  51.4,\n",
       "  51.1,\n",
       "  52.7,\n",
       "  49.3,\n",
       "  51.7,\n",
       "  53.2,\n",
       "  53.900000000000006,\n",
       "  54.50000000000001,\n",
       "  54.800000000000004,\n",
       "  56.8,\n",
       "  56.00000000000001,\n",
       "  57.3]}"
      ]
     },
     "execution_count": 19,
     "metadata": {},
     "output_type": "execute_result"
    }
   ],
   "source": [
    "thresholds = [0.5,0.05,0.01,0.001]\n",
    "agent1_sens = {}\n",
    "\n",
    "for j in thresholds:\n",
    "    sensitivity_values = []\n",
    "    for i in range(10, 100):\n",
    "        agent1 = agent(1000, 0, 0.5, 1, 1, i, i, j)\n",
    "        agent1.current_strategy()\n",
    "        sensitivity = (agent1.output.count(1) / 1000) * 100\n",
    "        sensitivity_values.append(sensitivity)\n",
    "    agent1_sens[f\"Sensitivity {j}\"] = sensitivity_values\n",
    "\n",
    "agent1_sens "
   ]
  },
  {
   "cell_type": "code",
   "execution_count": 20,
   "metadata": {},
   "outputs": [],
   "source": [
    "# Create a list for y values\n",
    "y_values1_05_f = agent1_sens[f\"Sensitivity {0.5}\"]\n",
    "y_values1_005_f = agent1_sens[f\"Sensitivity {0.05}\"]\n",
    "y_values1_001_f = agent1_sens[f\"Sensitivity {0.01}\"]\n",
    "y_values1_0001_f = agent1_sens[f\"Sensitivity {0.001}\"]\n"
   ]
  },
  {
   "attachments": {},
   "cell_type": "markdown",
   "metadata": {},
   "source": [
    "### Agent 2 Series\n",
    "\n",
    "Alos in this case we check for Sensitivity series. We don't check for specificity due to it not being involved in NHST."
   ]
  },
  {
   "cell_type": "code",
   "execution_count": 21,
   "metadata": {},
   "outputs": [],
   "source": [
    "thresholds = [0.5,0.05,0.01,0.001]\n",
    "agent2_sens = {}\n",
    "\n",
    "for j in thresholds :\n",
    "    sensitivity_values = []\n",
    "    for i in range(10,100):\n",
    "        agent2e = agent(3000,0,0.5,1,1,i,i,j)\n",
    "        agent2e.best_of_three()\n",
    "        sensitivity = (agent2e.output.count(1) / 1000) * 100\n",
    "        sensitivity_values.append(sensitivity)\n",
    "    agent2_sens[f\"Sensitivity {j}\"] = sensitivity_values\n",
    "\n"
   ]
  },
  {
   "cell_type": "code",
   "execution_count": 22,
   "metadata": {},
   "outputs": [],
   "source": [
    "# Create a list for y values\n",
    "y_values2_05_f = agent2_sens[f\"Sensitivity {0.5}\"]\n",
    "y_values2_005_f = agent2_sens[f\"Sensitivity {0.05}\"]\n",
    "y_values2_001_f = agent2_sens[f\"Sensitivity {0.01}\"]\n",
    "y_values2_0001_f = agent2_sens[f\"Sensitivity {0.001}\"]\n",
    "\n"
   ]
  },
  {
   "cell_type": "code",
   "execution_count": 23,
   "metadata": {},
   "outputs": [
    {
     "data": {
      "text/plain": [
       "<AxesSubplot: >"
      ]
     },
     "execution_count": 23,
     "metadata": {},
     "output_type": "execute_result"
    },
    {
     "data": {
      "image/png": "[encoded data removed]",
      "text/plain": [
       "<Figure size 640x480 with 1 Axes>"
      ]
     },
     "metadata": {},
     "output_type": "display_data"
    }
   ],
   "source": [
    "# Create a numeric index for the y-values\n",
    "x_values_1 = range(len(y_values1_001_f))\n",
    "x_values_2 = range(len(y_values2_001_f))\n",
    "\n",
    "# Plot the y-values as a line plot\n",
    "sns.lineplot(x=x_values_1, y=y_values1_001_f, marker='o', label='Strategy 1')\n",
    "\n",
    "# Plot another set of y-values on top of the first plot\n",
    "sns.lineplot(x=x_values_2, y=y_values2_001_f, marker='o', label='Strategy 2')"
   ]
  },
  {
   "attachments": {},
   "cell_type": "markdown",
   "metadata": {},
   "source": [
    "### Gaphic representation for Sensitivity: false Null\n"
   ]
  },
  {
   "cell_type": "code",
   "execution_count": 24,
   "metadata": {},
   "outputs": [
    {
     "data": {
      "text/plain": [
       "<AxesSubplot: >"
      ]
     },
     "execution_count": 24,
     "metadata": {},
     "output_type": "execute_result"
    },
    {
     "data": {
      "image/png": "[encoded data removed]",
      "text/plain": [
       "<Figure size 600x600 with 4 Axes>"
      ]
     },
     "metadata": {},
     "output_type": "display_data"
    }
   ],
   "source": [
    "sensitivity_g = plt.figure(figsize=[6,6]) #Generically defines the size of the figure that will be populated by subplots by sns\n",
    "sensitivity_g.subplots_adjust(hspace=.25, wspace=.25)\n",
    "\n",
    "# First subplot - Sensitivity - 0.5 significance\n",
    "sns.set_theme(style=\"ticks\")\n",
    "ax1 = sensitivity_g.add_subplot(2,2,1)\n",
    "sns.lineplot(x=x_values_1, y=y_values1_05_f, color=\"Crimson\")\n",
    "sns.lineplot(x=x_values_1, y=y_values2_05_f, color=\"Gold\")\n",
    "\n",
    "# Second subplot - Sensitivity - 0.05 significance\n",
    "sns.set_theme(style=\"ticks\")\n",
    "ax1 = sensitivity_g.add_subplot(2,2,2)\n",
    "sns.lineplot(x=x_values_1, y=y_values1_005_f, color=\"Crimson\")\n",
    "sns.lineplot(x=x_values_1, y=y_values2_005_f, color=\"Gold\")\n",
    "\n",
    "# Third subplot - Sensitivity - 0.01 significance\n",
    "sns.set_theme(style=\"ticks\")\n",
    "ax1 = sensitivity_g.add_subplot(2,2,3)\n",
    "sns.lineplot(x=x_values_1, y=y_values1_001_f, color=\"Crimson\")\n",
    "sns.lineplot(x=x_values_1, y=y_values2_001_f, color=\"Gold\")\n",
    "\n",
    "# Third subplot - Sensitivity - 0.001 significance\n",
    "sns.set_theme(style=\"ticks\")\n",
    "ax1 = sensitivity_g.add_subplot(2,2,4)\n",
    "sns.lineplot(x=x_values_1, y=y_values1_0001_f, color=\"Crimson\")\n",
    "sns.lineplot(x=x_values_1, y=y_values2_0001_f, color=\"Gold\")"
   ]
  },
  {
   "attachments": {},
   "cell_type": "markdown",
   "metadata": {},
   "source": [
    "## 3.2 True  Null - Specificity Testing\n"
   ]
  },
  {
   "attachments": {},
   "cell_type": "markdown",
   "metadata": {},
   "source": [
    "### Agent 1 Series"
   ]
  },
  {
   "cell_type": "code",
   "execution_count": 25,
   "metadata": {},
   "outputs": [
    {
     "data": {
      "text/plain": [
       "{}"
      ]
     },
     "execution_count": 25,
     "metadata": {},
     "output_type": "execute_result"
    }
   ],
   "source": [
    "thresholds = [0.5,0.05,0.01,0.001]\n",
    "agent1_spec = {}\n",
    "\n",
    "for j in thresholds:\n",
    "    specificity_values = []\n",
    "    for i in range(10, 100):\n",
    "        agent1 = agent(1000, 0, 0.5, 1, 1, i, i, j)\n",
    "        agent1.current_strategy()\n",
    "        specificity = (agent1.output.count(1) / 1000) * 100\n",
    "        specificity_values.append(specificity)\n",
    "    agent1_sens[f\"Specificity {j}\"] = specificity_values\n",
    "\n",
    "agent1_spec "
   ]
  },
  {
   "cell_type": "code",
   "execution_count": 26,
   "metadata": {},
   "outputs": [],
   "source": [
    "# Create a list for y values\n",
    "y_values1_05_t = agent1_sens[f\"Specificity {0.5}\"]\n",
    "y_values1_005_t = agent1_sens[f\"Specificity {0.05}\"]\n",
    "y_values1_001_t = agent1_sens[f\"Specificity {0.01}\"]\n",
    "y_values1_0001_t = agent1_sens[f\"Specificity {0.001}\"]\n"
   ]
  },
  {
   "attachments": {},
   "cell_type": "markdown",
   "metadata": {},
   "source": [
    "### Agent 2 Series - True Null"
   ]
  },
  {
   "cell_type": "code",
   "execution_count": 27,
   "metadata": {},
   "outputs": [],
   "source": [
    "thresholds = [0.5,0.05,0.01,0.001]\n",
    "agent2_spec = {}\n",
    "\n",
    "for j in thresholds :\n",
    "    specificity_values = []\n",
    "    for i in range(10,100):\n",
    "        agent2e = agent(3000,0,0.5,1,1,i,i,j)\n",
    "        agent2e.best_of_three()\n",
    "        specificity = (agent2e.output.count(1) / 1000) * 100\n",
    "        specificity_values.append(specificity)\n",
    "    agent2_spec[f\"Specificity {j}\"] = specificity_values\n",
    "\n"
   ]
  },
  {
   "cell_type": "code",
   "execution_count": 28,
   "metadata": {},
   "outputs": [],
   "source": [
    "# Create a list for y values\n",
    "y_values2_05_t = agent2_spec[f\"Specificity {0.5}\"]\n",
    "y_values2_005_t = agent2_spec[f\"Specificity {0.05}\"]\n",
    "y_values2_001_t = agent2_spec[f\"Specificity {0.01}\"]\n",
    "y_values2_0001_t = agent2_spec[f\"Specificity {0.001}\"]\n"
   ]
  },
  {
   "cell_type": "code",
   "execution_count": 29,
   "metadata": {},
   "outputs": [
    {
     "data": {
      "text/plain": [
       "<AxesSubplot: >"
      ]
     },
     "execution_count": 29,
     "metadata": {},
     "output_type": "execute_result"
    },
    {
     "data": {
      "image/png": "[encoded data removed]",
      "text/plain": [
       "<Figure size 640x480 with 1 Axes>"
      ]
     },
     "metadata": {},
     "output_type": "display_data"
    }
   ],
   "source": [
    "# Create a numeric index for the y-values\n",
    "x_values_1 = range(len(y_values1_001_t))\n",
    "x_values_2 = range(len(y_values2_001_t))\n",
    "\n",
    "# Plot the y-values as a line plot\n",
    "sns.lineplot(x=x_values_1, y=y_values1_001_t, marker='o', label='Strategy 1')\n",
    "\n",
    "# Plot another set of y-values on top of the first plot\n",
    "sns.lineplot(x=x_values_2, y=y_values2_001_t, marker='o', label='Strategy 2')"
   ]
  },
  {
   "attachments": {},
   "cell_type": "markdown",
   "metadata": {},
   "source": [
    "### Graphic representation for the True Null - Specificity"
   ]
  },
  {
   "cell_type": "code",
   "execution_count": 30,
   "metadata": {},
   "outputs": [
    {
     "data": {
      "text/plain": [
       "<AxesSubplot: >"
      ]
     },
     "execution_count": 30,
     "metadata": {},
     "output_type": "execute_result"
    },
    {
     "data": {
      "image/png": "[encoded data removed]",
      "text/plain": [
       "<Figure size 600x600 with 4 Axes>"
      ]
     },
     "metadata": {},
     "output_type": "display_data"
    }
   ],
   "source": [
    "specificity_g = plt.figure(figsize=[6,6]) #Generically defines the size of the figure that will be populated by subplots by sns\n",
    "specificity_g.subplots_adjust(hspace=.25, wspace=.25)\n",
    "\n",
    "# First subplot - Sensitivity - 0.5 significance\n",
    "sns.set_theme(style=\"ticks\")\n",
    "ax1 = specificity_g.add_subplot(2,2,1)\n",
    "sns.lineplot(x=x_values_1, y=y_values1_05_t, color=\"Crimson\")\n",
    "sns.lineplot(x=x_values_1, y=y_values2_05_t, color=\"Gold\")\n",
    "\n",
    "# Second subplot - Sensitivity - 0.05 significance\n",
    "sns.set_theme(style=\"ticks\")\n",
    "ax1 = specificity_g.add_subplot(2,2,2)\n",
    "sns.lineplot(x=x_values_1, y=y_values1_005_t, color=\"Crimson\")\n",
    "sns.lineplot(x=x_values_1, y=y_values2_005_t, color=\"Gold\")\n",
    "\n",
    "# Third subplot - Sensitivity - 0.01 significance\n",
    "sns.set_theme(style=\"ticks\")\n",
    "ax1 = specificity_g.add_subplot(2,2,3)\n",
    "sns.lineplot(x=x_values_1, y=y_values1_001_t, color=\"Crimson\")\n",
    "sns.lineplot(x=x_values_1, y=y_values2_001_t, color=\"Gold\")\n",
    "\n",
    "# Third subplot - Sensitivity - 0.001 significance\n",
    "sns.set_theme(style=\"ticks\")\n",
    "ax1 = specificity_g.add_subplot(2,2,4)\n",
    "sns.lineplot(x=x_values_1, y=y_values1_0001_t, color=\"Crimson\")\n",
    "sns.lineplot(x=x_values_1, y=y_values2_0001_t, color=\"Gold\")"
   ]
  },
  {
   "cell_type": "code",
   "execution_count": null,
   "metadata": {},
   "outputs": [],
   "source": []
  }
 ],
 "metadata": {
  "kernelspec": {
   "display_name": ".venv",
   "language": "python",
   "name": "python3"
  },
  "language_info": {
   "codemirror_mode": {
    "name": "ipython",
    "version": 3
   },
   "file_extension": ".py",
   "mimetype": "text/x-python",
   "name": "python",
   "nbconvert_exporter": "python",
   "pygments_lexer": "ipython3",
   "version": "3.11.1 (tags/v3.11.1:a7a450f, Dec  6 2022, 19:58:39) [MSC v.1934 64 bit (AMD64)]"
  },
  "orig_nbformat": 4,
  "vscode": {
   "interpreter": {
    "hash": "50e851967efa27e7fe91ca3358c4e8539894a1bcface6408a2bbdf3f451f9034"
   }
  }
 },
 "nbformat": 4,
 "nbformat_minor": 2
}
